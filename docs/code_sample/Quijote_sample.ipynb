{
 "cells": [
  {
   "cell_type": "code",
   "execution_count": null,
   "id": "c679003a",
   "metadata": {},
   "outputs": [
    {
     "name": "stderr",
     "output_type": "stream",
     "text": [
      "yt : [ERROR    ] 2025-09-13 14:56:38,299 Could not enable parallelism: only one mpi process is running. To remedy this, launch the Python interpreter as\n",
      "  mpirun -n <X> python3 <yourscript>.py  # with X > 1 \n"
     ]
    }
   ],
   "source": [
    "import numpy as np\n",
    "from pyhipp.io import h5\n",
    "import ytree\n",
    "\n",
    "import sys\n",
    "import os\n",
    "sys.path.append(os.path.abspath('../../'))\n",
    "from src.halo_assembly_bias import halo\n",
    "from halo_assembly_bias.ab_match import ab_match"
   ]
  },
  {
   "cell_type": "code",
   "execution_count": null,
   "id": "1907176a",
   "metadata": {},
   "outputs": [
    {
     "name": "stdout",
     "output_type": "stream",
     "text": [
      "/Users/yuhongfei/Documents/Files/Cosmology/halo_web/docs/code_sample\n",
      "[HaloSample] HaloSample: n_objs=33041, keys=('mass', 'zf', 'x', 'y', 'z', 'vx', 'vy', 'vz')\n",
      "[HaloSample] HaloSample: n_objs=1632, keys=('mass', 'zf', 'x', 'y', 'z', 'vx', 'vy', 'vz')\n",
      "[HaloSample] HaloSample: n_objs=8671, keys=('mass', 'zf', 'x', 'y', 'z', 'vx', 'vy', 'vz')\n",
      "[HaloSample] HaloSample: n_objs=8286, keys=('mass', 'zf', 'x', 'y', 'z', 'vx', 'vy', 'vz')\n",
      "[HaloSample] HaloSample: n_objs=14452, keys=('mass', 'zf', 'x', 'y', 'z', 'vx', 'vy', 'vz')\n",
      "0.0 0.0\n",
      "0.0 0.0\n",
      "0.0 0.0\n",
      "2.00003 0.0\n"
     ]
    }
   ],
   "source": [
    "# abundance matching\n",
    "\n",
    "print(os.getcwd())\n",
    "file_input = 'data/halo_Quijote.txt'\n",
    "halos = halo.HaloSample.from_file(file_input)\n",
    "\n",
    "numbers = np.array([301, 1599, 1528, 2665])\n",
    "\n",
    "halo_ab_groups = ab_match(halos, numbers)\n",
    "\n",
    "for halo_group in halo_ab_groups:\n",
    "    print(max(halo_group['zf']), min(halo_group['zf'])) "
   ]
  },
  {
   "cell_type": "code",
   "execution_count": null,
   "id": "5240d983",
   "metadata": {},
   "outputs": [],
   "source": []
  }
 ],
 "metadata": {
  "kernelspec": {
   "display_name": "cosmo",
   "language": "python",
   "name": "python3"
  },
  "language_info": {
   "codemirror_mode": {
    "name": "ipython",
    "version": 3
   },
   "file_extension": ".py",
   "mimetype": "text/x-python",
   "name": "python",
   "nbconvert_exporter": "python",
   "pygments_lexer": "ipython3",
   "version": "3.12.3"
  }
 },
 "nbformat": 4,
 "nbformat_minor": 5
}
